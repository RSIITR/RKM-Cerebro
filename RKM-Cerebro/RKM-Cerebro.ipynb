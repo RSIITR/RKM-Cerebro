{
 "cells": [
  {
   "cell_type": "markdown",
   "metadata": {
    "colab_type": "text",
    "id": "BxFGGvMgkIJt"
   },
   "source": [
    "## IMPORTS"
   ]
  },
  {
   "cell_type": "code",
   "execution_count": 1,
   "metadata": {
    "colab": {},
    "colab_type": "code",
    "id": "jk8CZM2xRvGO"
   },
   "outputs": [],
   "source": [
    "import pandas as pd\n",
    "import numpy as np\n",
    "import matplotlib.pyplot as plt\n",
    "from xgboost import XGBRegressor\n",
    "from lightgbm import LGBMRegressor"
   ]
  },
  {
   "cell_type": "code",
   "execution_count": 2,
   "metadata": {
    "colab": {
     "base_uri": "https://localhost:8080/",
     "height": 413
    },
    "colab_type": "code",
    "id": "UF7GArDxTE1p",
    "outputId": "4a5b33d3-62ce-4872-fc53-c3b3ca2d54c3"
   },
   "outputs": [
    {
     "data": {
      "text/html": [
       "<div>\n",
       "<style scoped>\n",
       "    .dataframe tbody tr th:only-of-type {\n",
       "        vertical-align: middle;\n",
       "    }\n",
       "\n",
       "    .dataframe tbody tr th {\n",
       "        vertical-align: top;\n",
       "    }\n",
       "\n",
       "    .dataframe thead th {\n",
       "        text-align: right;\n",
       "    }\n",
       "</style>\n",
       "<table border=\"1\" class=\"dataframe\">\n",
       "  <thead>\n",
       "    <tr style=\"text-align: right;\">\n",
       "      <th></th>\n",
       "      <th>TID</th>\n",
       "      <th>Date</th>\n",
       "      <th>Property Type</th>\n",
       "      <th>OldvNew</th>\n",
       "      <th>Duration</th>\n",
       "      <th>AddressLine1</th>\n",
       "      <th>AddressLine2</th>\n",
       "      <th>Street</th>\n",
       "      <th>Locality</th>\n",
       "      <th>Town</th>\n",
       "      <th>Taluka</th>\n",
       "      <th>District</th>\n",
       "      <th>Postcode</th>\n",
       "      <th>Price</th>\n",
       "      <th>Price Category</th>\n",
       "    </tr>\n",
       "  </thead>\n",
       "  <tbody>\n",
       "    <tr>\n",
       "      <th>0</th>\n",
       "      <td>909733</td>\n",
       "      <td>26-11-2018</td>\n",
       "      <td>T</td>\n",
       "      <td>N</td>\n",
       "      <td>F</td>\n",
       "      <td>57</td>\n",
       "      <td>NaN</td>\n",
       "      <td>BENSKYVM XMKBBM</td>\n",
       "      <td>NaN</td>\n",
       "      <td>EYLFYL</td>\n",
       "      <td>OUSGLBQ</td>\n",
       "      <td>JKBUMBK EYLFYL</td>\n",
       "      <td>B4 7XD</td>\n",
       "      <td>845.0</td>\n",
       "      <td>A</td>\n",
       "    </tr>\n",
       "    <tr>\n",
       "      <th>1</th>\n",
       "      <td>827610</td>\n",
       "      <td>26-10-2018</td>\n",
       "      <td>T</td>\n",
       "      <td>N</td>\n",
       "      <td>L</td>\n",
       "      <td>4</td>\n",
       "      <td>NaN</td>\n",
       "      <td>EYLJ NBUFYZ</td>\n",
       "      <td>NaN</td>\n",
       "      <td>HKRXMYE</td>\n",
       "      <td>SRMQ YV HKRXMYE</td>\n",
       "      <td>SRMQ YV HKRXMYE</td>\n",
       "      <td>HX03 0FQ</td>\n",
       "      <td>225.0</td>\n",
       "      <td>A</td>\n",
       "    </tr>\n",
       "    <tr>\n",
       "      <th>2</th>\n",
       "      <td>680513</td>\n",
       "      <td>07-09-2018</td>\n",
       "      <td>D</td>\n",
       "      <td>Y</td>\n",
       "      <td>F</td>\n",
       "      <td>5</td>\n",
       "      <td>NaN</td>\n",
       "      <td>BPBKXEBQ JUKFBLX</td>\n",
       "      <td>GRLJX ZYKMOQ</td>\n",
       "      <td>ZRLSOBXMBK</td>\n",
       "      <td>ZRLSOBXMBK</td>\n",
       "      <td>OUNCXORKB</td>\n",
       "      <td>XY56 9JD</td>\n",
       "      <td>872.5</td>\n",
       "      <td>A</td>\n",
       "    </tr>\n",
       "    <tr>\n",
       "      <th>3</th>\n",
       "      <td>798754</td>\n",
       "      <td>19-10-2018</td>\n",
       "      <td>S</td>\n",
       "      <td>N</td>\n",
       "      <td>F</td>\n",
       "      <td>55</td>\n",
       "      <td>NaN</td>\n",
       "      <td>SYKYLUMRYL SEYXB</td>\n",
       "      <td>OUCCRXHWKJO</td>\n",
       "      <td>LYKZRSO</td>\n",
       "      <td>LYKMO LYKVYEG</td>\n",
       "      <td>LYKVYEG</td>\n",
       "      <td>LK05 7KE</td>\n",
       "      <td>130.1</td>\n",
       "      <td>A</td>\n",
       "    </tr>\n",
       "    <tr>\n",
       "      <th>4</th>\n",
       "      <td>612097</td>\n",
       "      <td>17-08-2018</td>\n",
       "      <td>S</td>\n",
       "      <td>N</td>\n",
       "      <td>F</td>\n",
       "      <td>20</td>\n",
       "      <td>NaN</td>\n",
       "      <td>MOB SUWXBZUQ</td>\n",
       "      <td>NaN</td>\n",
       "      <td>XYWMOCYKM</td>\n",
       "      <td>XBVMYL</td>\n",
       "      <td>NBKXBQXRFB</td>\n",
       "      <td>CK8 2TU</td>\n",
       "      <td>160.0</td>\n",
       "      <td>A</td>\n",
       "    </tr>\n",
       "  </tbody>\n",
       "</table>\n",
       "</div>"
      ],
      "text/plain": [
       "      TID        Date Property Type OldvNew Duration AddressLine1  \\\n",
       "0  909733  26-11-2018             T       N        F           57   \n",
       "1  827610  26-10-2018             T       N        L            4   \n",
       "2  680513  07-09-2018             D       Y        F            5   \n",
       "3  798754  19-10-2018             S       N        F           55   \n",
       "4  612097  17-08-2018             S       N        F           20   \n",
       "\n",
       "  AddressLine2            Street      Locality        Town           Taluka  \\\n",
       "0          NaN   BENSKYVM XMKBBM           NaN      EYLFYL          OUSGLBQ   \n",
       "1          NaN       EYLJ NBUFYZ           NaN     HKRXMYE  SRMQ YV HKRXMYE   \n",
       "2          NaN  BPBKXEBQ JUKFBLX  GRLJX ZYKMOQ  ZRLSOBXMBK       ZRLSOBXMBK   \n",
       "3          NaN  SYKYLUMRYL SEYXB   OUCCRXHWKJO     LYKZRSO    LYKMO LYKVYEG   \n",
       "4          NaN      MOB SUWXBZUQ           NaN   XYWMOCYKM           XBVMYL   \n",
       "\n",
       "          District  Postcode  Price Price Category  \n",
       "0   JKBUMBK EYLFYL    B4 7XD  845.0              A  \n",
       "1  SRMQ YV HKRXMYE  HX03 0FQ  225.0              A  \n",
       "2        OUNCXORKB  XY56 9JD  872.5              A  \n",
       "3          LYKVYEG  LK05 7KE  130.1              A  \n",
       "4       NBKXBQXRFB   CK8 2TU  160.0              A  "
      ]
     },
     "execution_count": 2,
     "metadata": {},
     "output_type": "execute_result"
    }
   ],
   "source": [
    "# Loading train and test data and analyzing its first 5 columns\n",
    "df_train = pd.read_csv('train.csv')\n",
    "df_test = pd.read_csv('test.csv')\n",
    "df_train.head()"
   ]
  },
  {
   "cell_type": "markdown",
   "metadata": {
    "colab_type": "text",
    "id": "hCikyMw9kNNm"
   },
   "source": [
    "## Pre-processing"
   ]
  },
  {
   "cell_type": "code",
   "execution_count": 3,
   "metadata": {
    "colab": {
     "base_uri": "https://localhost:8080/",
     "height": 295
    },
    "colab_type": "code",
    "id": "KEHd_kW5k9hq",
    "outputId": "b9fd3951-7919-4a29-950d-497faeef9ec8"
   },
   "outputs": [
    {
     "data": {
      "text/plain": [
       "TID                    0\n",
       "Date                   0\n",
       "Property Type          0\n",
       "OldvNew                0\n",
       "Duration               0\n",
       "AddressLine1           0\n",
       "AddressLine2      123627\n",
       "Street              2661\n",
       "Locality           88872\n",
       "Town                   0\n",
       "Taluka                 0\n",
       "District               0\n",
       "Postcode             653\n",
       "Price                  0\n",
       "Price Category         0\n",
       "dtype: int64"
      ]
     },
     "execution_count": 3,
     "metadata": {},
     "output_type": "execute_result"
    }
   ],
   "source": [
    "df_train.isnull().sum() # cecking for null values in the data"
   ]
  },
  {
   "cell_type": "code",
   "execution_count": 4,
   "metadata": {
    "colab": {},
    "colab_type": "code",
    "id": "AAWyeP0CT8P6"
   },
   "outputs": [],
   "source": [
    "# Preparing training data\n",
    "X_train = df_train.drop(columns = ['TID', 'AddressLine2', 'Locality', 'Price']) # dropped the 2 columns with many missng columns.\n",
    "y = df_train['Price'] # Label to be predicted"
   ]
  },
  {
   "cell_type": "code",
   "execution_count": 5,
   "metadata": {
    "colab": {},
    "colab_type": "code",
    "id": "ZAlQ1aoycLRE"
   },
   "outputs": [],
   "source": [
    "# FIlling the NaN(missing) values in the 2 other columns with more than 50% data with their mode values, as they are categorical. \n",
    "X_train['Street'].fillna(X_train['Street'].mode()[0], inplace = True)\n",
    "X_train['Postcode'].fillna(X_train['Postcode'].mode()[0], inplace = True)"
   ]
  },
  {
   "cell_type": "code",
   "execution_count": 6,
   "metadata": {
    "colab": {
     "base_uri": "https://localhost:8080/",
     "height": 225
    },
    "colab_type": "code",
    "id": "DSXLfiaJctH_",
    "outputId": "0ea78188-ed13-4338-f31c-80c616f76978"
   },
   "outputs": [
    {
     "data": {
      "text/plain": [
       "Date              0\n",
       "Property Type     0\n",
       "OldvNew           0\n",
       "Duration          0\n",
       "AddressLine1      0\n",
       "Street            0\n",
       "Town              0\n",
       "Taluka            0\n",
       "District          0\n",
       "Postcode          0\n",
       "Price Category    0\n",
       "dtype: int64"
      ]
     },
     "execution_count": 6,
     "metadata": {},
     "output_type": "execute_result"
    }
   ],
   "source": [
    "X_train.isnull().sum() # final check for null values"
   ]
  },
  {
   "cell_type": "markdown",
   "metadata": {
    "colab_type": "text",
    "id": "J1t148edkRKb"
   },
   "source": [
    "## Feature Engineering"
   ]
  },
  {
   "cell_type": "code",
   "execution_count": 7,
   "metadata": {
    "colab": {},
    "colab_type": "code",
    "id": "SHoy85uFaJaK"
   },
   "outputs": [],
   "source": [
    "# function for feature processing,i.e., to make the data clean and feadable.\n",
    "def Feature_processing(X):\n",
    "  freq_col = ['AddressLine1', 'Taluka', 'Town', 'District', 'Street', 'Postcode'] # vague columns chosen to be encoded by their frequency of occurence\n",
    "  for i in freq_col:\n",
    "    freq_en = X.groupby(i).size() # grouping the data of each column by their frequency(i.e: size of each type in the particular  column)\n",
    "    freq_en = freq_en/len(X) # lowering the range of values between 0 to 1, so that training can be done efficiently\n",
    "    X[i] = X[i].map(freq_en) # mapping the particular type in each column with its encoded version\n",
    "  # splitting the date column into day, month and year and dropping the parent column\n",
    "  X['day'] = X['Date'].str.split('-', 2, expand = True)[0].astype('int64')\n",
    "  X['month'] = X['Date'].str.split('-', 2, expand = True)[1].astype('int64')\n",
    "  X['year'] = X['Date'].str.split('-', 2, expand = True)[2].astype('int64')\n",
    "  X = X.drop(columns = ['Date'])\n",
    "  X = pd.get_dummies(X) # one hot encoding of the left out columns\n",
    "  return X"
   ]
  },
  {
   "cell_type": "code",
   "execution_count": 8,
   "metadata": {
    "colab": {},
    "colab_type": "code",
    "id": "hFbqx1dRfTrk"
   },
   "outputs": [],
   "source": [
    "X_train = Feature_processing(X_train) # calling the function to be executed on X_train"
   ]
  },
  {
   "cell_type": "code",
   "execution_count": 9,
   "metadata": {
    "colab": {
     "base_uri": "https://localhost:8080/",
     "height": 239
    },
    "colab_type": "code",
    "id": "lBVOVlhckABp",
    "outputId": "8bdeb066-496c-4b40-b3d8-231b6c6f890c"
   },
   "outputs": [
    {
     "data": {
      "text/html": [
       "<div>\n",
       "<style scoped>\n",
       "    .dataframe tbody tr th:only-of-type {\n",
       "        vertical-align: middle;\n",
       "    }\n",
       "\n",
       "    .dataframe tbody tr th {\n",
       "        vertical-align: top;\n",
       "    }\n",
       "\n",
       "    .dataframe thead th {\n",
       "        text-align: right;\n",
       "    }\n",
       "</style>\n",
       "<table border=\"1\" class=\"dataframe\">\n",
       "  <thead>\n",
       "    <tr style=\"text-align: right;\">\n",
       "      <th></th>\n",
       "      <th>AddressLine1</th>\n",
       "      <th>Street</th>\n",
       "      <th>Town</th>\n",
       "      <th>Taluka</th>\n",
       "      <th>District</th>\n",
       "      <th>Postcode</th>\n",
       "      <th>day</th>\n",
       "      <th>month</th>\n",
       "      <th>year</th>\n",
       "      <th>Property Type_D</th>\n",
       "      <th>Property Type_F</th>\n",
       "      <th>Property Type_O</th>\n",
       "      <th>Property Type_S</th>\n",
       "      <th>Property Type_T</th>\n",
       "      <th>OldvNew_N</th>\n",
       "      <th>OldvNew_Y</th>\n",
       "      <th>Duration_F</th>\n",
       "      <th>Duration_L</th>\n",
       "      <th>Price Category_A</th>\n",
       "      <th>Price Category_B</th>\n",
       "    </tr>\n",
       "  </thead>\n",
       "  <tbody>\n",
       "    <tr>\n",
       "      <th>0</th>\n",
       "      <td>0.013589</td>\n",
       "      <td>0.000014</td>\n",
       "      <td>0.056077</td>\n",
       "      <td>0.002385</td>\n",
       "      <td>0.098845</td>\n",
       "      <td>0.000014</td>\n",
       "      <td>26</td>\n",
       "      <td>11</td>\n",
       "      <td>2018</td>\n",
       "      <td>0</td>\n",
       "      <td>0</td>\n",
       "      <td>0</td>\n",
       "      <td>0</td>\n",
       "      <td>1</td>\n",
       "      <td>1</td>\n",
       "      <td>0</td>\n",
       "      <td>1</td>\n",
       "      <td>0</td>\n",
       "      <td>1</td>\n",
       "      <td>0</td>\n",
       "    </tr>\n",
       "    <tr>\n",
       "      <th>1</th>\n",
       "      <td>0.039893</td>\n",
       "      <td>0.000042</td>\n",
       "      <td>0.015443</td>\n",
       "      <td>0.007812</td>\n",
       "      <td>0.007812</td>\n",
       "      <td>0.000007</td>\n",
       "      <td>26</td>\n",
       "      <td>10</td>\n",
       "      <td>2018</td>\n",
       "      <td>0</td>\n",
       "      <td>0</td>\n",
       "      <td>0</td>\n",
       "      <td>0</td>\n",
       "      <td>1</td>\n",
       "      <td>1</td>\n",
       "      <td>0</td>\n",
       "      <td>0</td>\n",
       "      <td>1</td>\n",
       "      <td>1</td>\n",
       "      <td>0</td>\n",
       "    </tr>\n",
       "    <tr>\n",
       "      <th>2</th>\n",
       "      <td>0.044663</td>\n",
       "      <td>0.000007</td>\n",
       "      <td>0.000944</td>\n",
       "      <td>0.001721</td>\n",
       "      <td>0.024619</td>\n",
       "      <td>0.000007</td>\n",
       "      <td>7</td>\n",
       "      <td>9</td>\n",
       "      <td>2018</td>\n",
       "      <td>1</td>\n",
       "      <td>0</td>\n",
       "      <td>0</td>\n",
       "      <td>0</td>\n",
       "      <td>0</td>\n",
       "      <td>0</td>\n",
       "      <td>1</td>\n",
       "      <td>1</td>\n",
       "      <td>0</td>\n",
       "      <td>1</td>\n",
       "      <td>0</td>\n",
       "    </tr>\n",
       "    <tr>\n",
       "      <th>3</th>\n",
       "      <td>0.012911</td>\n",
       "      <td>0.000014</td>\n",
       "      <td>0.007931</td>\n",
       "      <td>0.002616</td>\n",
       "      <td>0.018275</td>\n",
       "      <td>0.000014</td>\n",
       "      <td>19</td>\n",
       "      <td>10</td>\n",
       "      <td>2018</td>\n",
       "      <td>0</td>\n",
       "      <td>0</td>\n",
       "      <td>0</td>\n",
       "      <td>1</td>\n",
       "      <td>0</td>\n",
       "      <td>1</td>\n",
       "      <td>0</td>\n",
       "      <td>1</td>\n",
       "      <td>0</td>\n",
       "      <td>1</td>\n",
       "      <td>0</td>\n",
       "    </tr>\n",
       "    <tr>\n",
       "      <th>4</th>\n",
       "      <td>0.002035</td>\n",
       "      <td>0.000147</td>\n",
       "      <td>0.001972</td>\n",
       "      <td>0.004721</td>\n",
       "      <td>0.024248</td>\n",
       "      <td>0.000007</td>\n",
       "      <td>17</td>\n",
       "      <td>8</td>\n",
       "      <td>2018</td>\n",
       "      <td>0</td>\n",
       "      <td>0</td>\n",
       "      <td>0</td>\n",
       "      <td>1</td>\n",
       "      <td>0</td>\n",
       "      <td>1</td>\n",
       "      <td>0</td>\n",
       "      <td>1</td>\n",
       "      <td>0</td>\n",
       "      <td>1</td>\n",
       "      <td>0</td>\n",
       "    </tr>\n",
       "  </tbody>\n",
       "</table>\n",
       "</div>"
      ],
      "text/plain": [
       "   AddressLine1    Street      Town    Taluka  District  Postcode  day  month  \\\n",
       "0      0.013589  0.000014  0.056077  0.002385  0.098845  0.000014   26     11   \n",
       "1      0.039893  0.000042  0.015443  0.007812  0.007812  0.000007   26     10   \n",
       "2      0.044663  0.000007  0.000944  0.001721  0.024619  0.000007    7      9   \n",
       "3      0.012911  0.000014  0.007931  0.002616  0.018275  0.000014   19     10   \n",
       "4      0.002035  0.000147  0.001972  0.004721  0.024248  0.000007   17      8   \n",
       "\n",
       "   year  Property Type_D  Property Type_F  Property Type_O  Property Type_S  \\\n",
       "0  2018                0                0                0                0   \n",
       "1  2018                0                0                0                0   \n",
       "2  2018                1                0                0                0   \n",
       "3  2018                0                0                0                1   \n",
       "4  2018                0                0                0                1   \n",
       "\n",
       "   Property Type_T  OldvNew_N  OldvNew_Y  Duration_F  Duration_L  \\\n",
       "0                1          1          0           1           0   \n",
       "1                1          1          0           0           1   \n",
       "2                0          0          1           1           0   \n",
       "3                0          1          0           1           0   \n",
       "4                0          1          0           1           0   \n",
       "\n",
       "   Price Category_A  Price Category_B  \n",
       "0                 1                 0  \n",
       "1                 1                 0  \n",
       "2                 1                 0  \n",
       "3                 1                 0  \n",
       "4                 1                 0  "
      ]
     },
     "execution_count": 9,
     "metadata": {},
     "output_type": "execute_result"
    }
   ],
   "source": [
    "X_train.head()"
   ]
  },
  {
   "cell_type": "code",
   "execution_count": 10,
   "metadata": {
    "colab": {},
    "colab_type": "code",
    "id": "Zjgz4LvBaejh"
   },
   "outputs": [],
   "source": [
    "# Same steps are followed with the test data\n",
    "X_test = df_test.drop(columns = ['TID', 'AddressLine2', 'Locality']) "
   ]
  },
  {
   "cell_type": "code",
   "execution_count": 11,
   "metadata": {
    "colab": {},
    "colab_type": "code",
    "id": "f-WCnoRPhOAr"
   },
   "outputs": [],
   "source": [
    "X_test['Street'].fillna(X_test['Street'].mode()[0], inplace = True)\n",
    "X_test['Postcode'].fillna(X_test['Postcode'].mode()[0], inplace = True)"
   ]
  },
  {
   "cell_type": "code",
   "execution_count": 12,
   "metadata": {
    "colab": {},
    "colab_type": "code",
    "id": "wCsbtxoya-Ag"
   },
   "outputs": [],
   "source": [
    "X_test = Feature_processing(X_test)"
   ]
  },
  {
   "cell_type": "code",
   "execution_count": 13,
   "metadata": {
    "colab": {
     "base_uri": "https://localhost:8080/",
     "height": 239
    },
    "colab_type": "code",
    "id": "h99peUKMjThN",
    "outputId": "0cee1f18-6a95-4827-f6f9-4387fdb209ab"
   },
   "outputs": [
    {
     "data": {
      "text/html": [
       "<div>\n",
       "<style scoped>\n",
       "    .dataframe tbody tr th:only-of-type {\n",
       "        vertical-align: middle;\n",
       "    }\n",
       "\n",
       "    .dataframe tbody tr th {\n",
       "        vertical-align: top;\n",
       "    }\n",
       "\n",
       "    .dataframe thead th {\n",
       "        text-align: right;\n",
       "    }\n",
       "</style>\n",
       "<table border=\"1\" class=\"dataframe\">\n",
       "  <thead>\n",
       "    <tr style=\"text-align: right;\">\n",
       "      <th></th>\n",
       "      <th>AddressLine1</th>\n",
       "      <th>Street</th>\n",
       "      <th>Town</th>\n",
       "      <th>Taluka</th>\n",
       "      <th>District</th>\n",
       "      <th>Postcode</th>\n",
       "      <th>day</th>\n",
       "      <th>month</th>\n",
       "      <th>year</th>\n",
       "      <th>Property Type_D</th>\n",
       "      <th>Property Type_F</th>\n",
       "      <th>Property Type_O</th>\n",
       "      <th>Property Type_S</th>\n",
       "      <th>Property Type_T</th>\n",
       "      <th>OldvNew_N</th>\n",
       "      <th>OldvNew_Y</th>\n",
       "      <th>Duration_F</th>\n",
       "      <th>Duration_L</th>\n",
       "      <th>Price Category_A</th>\n",
       "      <th>Price Category_B</th>\n",
       "    </tr>\n",
       "  </thead>\n",
       "  <tbody>\n",
       "    <tr>\n",
       "      <th>0</th>\n",
       "      <td>0.000016</td>\n",
       "      <td>0.000326</td>\n",
       "      <td>0.002040</td>\n",
       "      <td>0.001844</td>\n",
       "      <td>0.001844</td>\n",
       "      <td>0.000016</td>\n",
       "      <td>15</td>\n",
       "      <td>2</td>\n",
       "      <td>2018</td>\n",
       "      <td>0</td>\n",
       "      <td>1</td>\n",
       "      <td>0</td>\n",
       "      <td>0</td>\n",
       "      <td>0</td>\n",
       "      <td>1</td>\n",
       "      <td>0</td>\n",
       "      <td>0</td>\n",
       "      <td>1</td>\n",
       "      <td>1</td>\n",
       "      <td>0</td>\n",
       "    </tr>\n",
       "    <tr>\n",
       "      <th>1</th>\n",
       "      <td>0.004977</td>\n",
       "      <td>0.000196</td>\n",
       "      <td>0.002823</td>\n",
       "      <td>0.002203</td>\n",
       "      <td>0.015944</td>\n",
       "      <td>0.000016</td>\n",
       "      <td>13</td>\n",
       "      <td>8</td>\n",
       "      <td>2018</td>\n",
       "      <td>0</td>\n",
       "      <td>0</td>\n",
       "      <td>0</td>\n",
       "      <td>1</td>\n",
       "      <td>0</td>\n",
       "      <td>1</td>\n",
       "      <td>0</td>\n",
       "      <td>1</td>\n",
       "      <td>0</td>\n",
       "      <td>1</td>\n",
       "      <td>0</td>\n",
       "    </tr>\n",
       "    <tr>\n",
       "      <th>2</th>\n",
       "      <td>0.042838</td>\n",
       "      <td>0.000049</td>\n",
       "      <td>0.001159</td>\n",
       "      <td>0.001811</td>\n",
       "      <td>0.010934</td>\n",
       "      <td>0.000016</td>\n",
       "      <td>25</td>\n",
       "      <td>6</td>\n",
       "      <td>2018</td>\n",
       "      <td>0</td>\n",
       "      <td>0</td>\n",
       "      <td>0</td>\n",
       "      <td>0</td>\n",
       "      <td>1</td>\n",
       "      <td>1</td>\n",
       "      <td>0</td>\n",
       "      <td>0</td>\n",
       "      <td>1</td>\n",
       "      <td>1</td>\n",
       "      <td>0</td>\n",
       "    </tr>\n",
       "    <tr>\n",
       "      <th>3</th>\n",
       "      <td>0.004210</td>\n",
       "      <td>0.000033</td>\n",
       "      <td>0.015503</td>\n",
       "      <td>0.008143</td>\n",
       "      <td>0.008143</td>\n",
       "      <td>0.000016</td>\n",
       "      <td>3</td>\n",
       "      <td>5</td>\n",
       "      <td>2018</td>\n",
       "      <td>0</td>\n",
       "      <td>0</td>\n",
       "      <td>0</td>\n",
       "      <td>0</td>\n",
       "      <td>1</td>\n",
       "      <td>1</td>\n",
       "      <td>0</td>\n",
       "      <td>1</td>\n",
       "      <td>0</td>\n",
       "      <td>1</td>\n",
       "      <td>0</td>\n",
       "    </tr>\n",
       "    <tr>\n",
       "      <th>4</th>\n",
       "      <td>0.042838</td>\n",
       "      <td>0.000016</td>\n",
       "      <td>0.000375</td>\n",
       "      <td>0.002154</td>\n",
       "      <td>0.017217</td>\n",
       "      <td>0.000016</td>\n",
       "      <td>5</td>\n",
       "      <td>1</td>\n",
       "      <td>2018</td>\n",
       "      <td>0</td>\n",
       "      <td>1</td>\n",
       "      <td>0</td>\n",
       "      <td>0</td>\n",
       "      <td>0</td>\n",
       "      <td>1</td>\n",
       "      <td>0</td>\n",
       "      <td>0</td>\n",
       "      <td>1</td>\n",
       "      <td>1</td>\n",
       "      <td>0</td>\n",
       "    </tr>\n",
       "  </tbody>\n",
       "</table>\n",
       "</div>"
      ],
      "text/plain": [
       "   AddressLine1    Street      Town    Taluka  District  Postcode  day  month  \\\n",
       "0      0.000016  0.000326  0.002040  0.001844  0.001844  0.000016   15      2   \n",
       "1      0.004977  0.000196  0.002823  0.002203  0.015944  0.000016   13      8   \n",
       "2      0.042838  0.000049  0.001159  0.001811  0.010934  0.000016   25      6   \n",
       "3      0.004210  0.000033  0.015503  0.008143  0.008143  0.000016    3      5   \n",
       "4      0.042838  0.000016  0.000375  0.002154  0.017217  0.000016    5      1   \n",
       "\n",
       "   year  Property Type_D  Property Type_F  Property Type_O  Property Type_S  \\\n",
       "0  2018                0                1                0                0   \n",
       "1  2018                0                0                0                1   \n",
       "2  2018                0                0                0                0   \n",
       "3  2018                0                0                0                0   \n",
       "4  2018                0                1                0                0   \n",
       "\n",
       "   Property Type_T  OldvNew_N  OldvNew_Y  Duration_F  Duration_L  \\\n",
       "0                0          1          0           0           1   \n",
       "1                0          1          0           1           0   \n",
       "2                1          1          0           0           1   \n",
       "3                1          1          0           1           0   \n",
       "4                0          1          0           0           1   \n",
       "\n",
       "   Price Category_A  Price Category_B  \n",
       "0                 1                 0  \n",
       "1                 1                 0  \n",
       "2                 1                 0  \n",
       "3                 1                 0  \n",
       "4                 1                 0  "
      ]
     },
     "execution_count": 13,
     "metadata": {},
     "output_type": "execute_result"
    }
   ],
   "source": [
    "X_test.head()"
   ]
  },
  {
   "cell_type": "markdown",
   "metadata": {},
   "source": [
    "## Simple Visualization"
   ]
  },
  {
   "cell_type": "code",
   "execution_count": 15,
   "metadata": {},
   "outputs": [
    {
     "data": {
      "image/png": "[encoded data removed]",
      "text/plain": [
       "<Figure size 432x288 with 1 Axes>"
      ]
     },
     "metadata": {
      "needs_background": "light"
     },
     "output_type": "display_data"
    },
    {
     "data": {
      "image/png": "[encoded data removed]",
      "text/plain": [
       "<Figure size 432x288 with 1 Axes>"
      ]
     },
     "metadata": {
      "needs_background": "light"
     },
     "output_type": "display_data"
    },
    {
     "data": {
      "image/png": "[encoded data removed]",
      "text/plain": [
       "<Figure size 432x288 with 1 Axes>"
      ]
     },
     "metadata": {
      "needs_background": "light"
     },
     "output_type": "display_data"
    },
    {
     "data": {
      "image/png": "[encoded data removed]",
      "text/plain": [
       "<Figure size 432x288 with 1 Axes>"
      ]
     },
     "metadata": {
      "needs_background": "light"
     },
     "output_type": "display_data"
    },
    {
     "data": {
      "image/png": "[encoded data removed]",
      "text/plain": [
       "<Figure size 432x288 with 1 Axes>"
      ]
     },
     "metadata": {
      "needs_background": "light"
     },
     "output_type": "display_data"
    },
    {
     "data": {
      "image/png": "[encoded data removed]",
      "text/plain": [
       "<Figure size 432x288 with 1 Axes>"
      ]
     },
     "metadata": {
      "needs_background": "light"
     },
     "output_type": "display_data"
    },
    {
     "data": {
      "image/png": "[encoded data removed]",
      "text/plain": [
       "<Figure size 432x288 with 1 Axes>"
      ]
     },
     "metadata": {
      "needs_background": "light"
     },
     "output_type": "display_data"
    },
    {
     "data": {
      "image/png": "[encoded data removed]",
      "text/plain": [
       "<Figure size 432x288 with 1 Axes>"
      ]
     },
     "metadata": {
      "needs_background": "light"
     },
     "output_type": "display_data"
    },
    {
     "data": {
      "image/png": "[encoded data removed]",
      "text/plain": [
       "<Figure size 432x288 with 1 Axes>"
      ]
     },
     "metadata": {
      "needs_background": "light"
     },
     "output_type": "display_data"
    },
    {
     "data": {
      "image/png": "[encoded data removed]",
      "text/plain": [
       "<Figure size 432x288 with 1 Axes>"
      ]
     },
     "metadata": {
      "needs_background": "light"
     },
     "output_type": "display_data"
    },
    {
     "data": {
      "image/png": "[encoded data removed]",
      "text/plain": [
       "<Figure size 432x288 with 1 Axes>"
      ]
     },
     "metadata": {
      "needs_background": "light"
     },
     "output_type": "display_data"
    },
    {
     "data": {
      "image/png": "[encoded data removed]",
      "text/plain": [
       "<Figure size 432x288 with 1 Axes>"
      ]
     },
     "metadata": {
      "needs_background": "light"
     },
     "output_type": "display_data"
    },
    {
     "data": {
      "image/png": "[encoded data removed]",
      "text/plain": [
       "<Figure size 432x288 with 1 Axes>"
      ]
     },
     "metadata": {
      "needs_background": "light"
     },
     "output_type": "display_data"
    },
    {
     "data": {
      "image/png": "[encoded data removed]",
      "text/plain": [
       "<Figure size 432x288 with 1 Axes>"
      ]
     },
     "metadata": {
      "needs_background": "light"
     },
     "output_type": "display_data"
    },
    {
     "data": {
      "image/png": "[encoded data removed]",
      "text/plain": [
       "<Figure size 432x288 with 1 Axes>"
      ]
     },
     "metadata": {
      "needs_background": "light"
     },
     "output_type": "display_data"
    },
    {
     "data": {
      "image/png": "[encoded data removed]",
      "text/plain": [
       "<Figure size 432x288 with 1 Axes>"
      ]
     },
     "metadata": {
      "needs_background": "light"
     },
     "output_type": "display_data"
    },
    {
     "data": {
      "image/png": "[encoded data removed]",
      "text/plain": [
       "<Figure size 432x288 with 1 Axes>"
      ]
     },
     "metadata": {
      "needs_background": "light"
     },
     "output_type": "display_data"
    },
    {
     "data": {
      "image/png": "[encoded data removed]",
      "text/plain": [
       "<Figure size 432x288 with 1 Axes>"
      ]
     },
     "metadata": {
      "needs_background": "light"
     },
     "output_type": "display_data"
    },
    {
     "data": {
      "image/png": "[encoded data removed]",
      "text/plain": [
       "<Figure size 432x288 with 1 Axes>"
      ]
     },
     "metadata": {
      "needs_background": "light"
     },
     "output_type": "display_data"
    },
    {
     "data": {
      "image/png": "[encoded data removed]",
      "text/plain": [
       "<Figure size 432x288 with 1 Axes>"
      ]
     },
     "metadata": {
      "needs_background": "light"
     },
     "output_type": "display_data"
    }
   ],
   "source": [
    "for i in X_train:\n",
    "    plt.scatter(X_train[i], y)\n",
    "    plt.show()"
   ]
  },
  {
   "cell_type": "code",
   "execution_count": 16,
   "metadata": {},
   "outputs": [],
   "source": [
    "# Looking at the above data, though linear models like Linear Regression and SVM can do good, they would be slow in training this amount of data. Tree based models will fit them efficiently train irrespective of their behaviour and also save a lot of time in training the data "
   ]
  },
  {
   "cell_type": "code",
   "execution_count": 17,
   "metadata": {
    "colab": {},
    "colab_type": "code",
    "id": "aDaJvEqD0Xdc"
   },
   "outputs": [],
   "source": [
    "# from sklearn.model_selection import train_test_split\n",
    "# X1, X_test, y_train, y_test = train_test_split(X_train, y, test_size=0.33, random_state=42)"
   ]
  },
  {
   "cell_type": "markdown",
   "metadata": {
    "colab_type": "text",
    "id": "Fsi2mIZSkY2n"
   },
   "source": [
    "## Model Selection and ensembling"
   ]
  },
  {
   "cell_type": "code",
   "execution_count": 18,
   "metadata": {
    "colab": {
     "base_uri": "https://localhost:8080/",
     "height": 124
    },
    "colab_type": "code",
    "id": "iJH9ui5IhqHD",
    "outputId": "a0d92a92-ee19-468f-813a-7f7ea177a100"
   },
   "outputs": [
    {
     "name": "stderr",
     "output_type": "stream",
     "text": [
      "C:\\ProgramData\\Anaconda3\\lib\\site-packages\\xgboost\\core.py:587: FutureWarning: Series.base is deprecated and will be removed in a future version\n",
      "  if getattr(data, 'base', None) is not None and \\\n",
      "C:\\ProgramData\\Anaconda3\\lib\\site-packages\\xgboost\\core.py:588: FutureWarning: Series.base is deprecated and will be removed in a future version\n",
      "  data.base is not None and isinstance(data, np.ndarray) \\\n"
     ]
    },
    {
     "name": "stdout",
     "output_type": "stream",
     "text": [
      "[14:44:29] WARNING: C:/Jenkins/workspace/xgboost-win64_release_0.90/src/objective/regression_obj.cu:152: reg:linear is now deprecated in favor of reg:squarederror.\n"
     ]
    }
   ],
   "source": [
    "xgb = XGBRegressor(n_estimators = 150) # xgboost regressor\n",
    "lgbm = LGBMRegressor(n_estimators = 150) # light gbm regressor\n",
    "# use the 2 models to fit the training data\n",
    "xgb.fit(X_train, y)\n",
    "lgbm.fit(X_train, y)\n",
    "y_pred = 0.5*xgb.predict(X_test) + 0.5*lgbm.predict(X_test) # Ensemble model with equal weights on the 2"
   ]
  },
  {
   "cell_type": "code",
   "execution_count": 19,
   "metadata": {
    "colab": {},
    "colab_type": "code",
    "id": "lG7gcsj5zvmY"
   },
   "outputs": [],
   "source": [
    "# from sklearn.metrics import mean_squared_error\n",
    "# np.sqrt(mean_squared_error(y_pred, y_test))"
   ]
  },
  {
   "cell_type": "markdown",
   "metadata": {
    "colab_type": "text",
    "id": "6L-eg5cwkegL"
   },
   "source": [
    "## Submission in the right format"
   ]
  },
  {
   "cell_type": "code",
   "execution_count": 20,
   "metadata": {
    "colab": {
     "base_uri": "https://localhost:8080/",
     "height": 202
    },
    "colab_type": "code",
    "id": "0CqllnU_cECP",
    "outputId": "d819280c-d7f6-434c-9a1b-179f99ed342c"
   },
   "outputs": [
    {
     "data": {
      "text/html": [
       "<div>\n",
       "<style scoped>\n",
       "    .dataframe tbody tr th:only-of-type {\n",
       "        vertical-align: middle;\n",
       "    }\n",
       "\n",
       "    .dataframe tbody tr th {\n",
       "        vertical-align: top;\n",
       "    }\n",
       "\n",
       "    .dataframe thead th {\n",
       "        text-align: right;\n",
       "    }\n",
       "</style>\n",
       "<table border=\"1\" class=\"dataframe\">\n",
       "  <thead>\n",
       "    <tr style=\"text-align: right;\">\n",
       "      <th></th>\n",
       "      <th>TID</th>\n",
       "      <th>Price</th>\n",
       "    </tr>\n",
       "  </thead>\n",
       "  <tbody>\n",
       "    <tr>\n",
       "      <th>0</th>\n",
       "      <td>102779</td>\n",
       "      <td>180.268090</td>\n",
       "    </tr>\n",
       "    <tr>\n",
       "      <th>1</th>\n",
       "      <td>598463</td>\n",
       "      <td>174.172997</td>\n",
       "    </tr>\n",
       "    <tr>\n",
       "      <th>2</th>\n",
       "      <td>443492</td>\n",
       "      <td>170.725067</td>\n",
       "    </tr>\n",
       "    <tr>\n",
       "      <th>3</th>\n",
       "      <td>305046</td>\n",
       "      <td>276.247750</td>\n",
       "    </tr>\n",
       "    <tr>\n",
       "      <th>4</th>\n",
       "      <td>6198</td>\n",
       "      <td>246.795483</td>\n",
       "    </tr>\n",
       "  </tbody>\n",
       "</table>\n",
       "</div>"
      ],
      "text/plain": [
       "      TID       Price\n",
       "0  102779  180.268090\n",
       "1  598463  174.172997\n",
       "2  443492  170.725067\n",
       "3  305046  276.247750\n",
       "4    6198  246.795483"
      ]
     },
     "execution_count": 20,
     "metadata": {},
     "output_type": "execute_result"
    }
   ],
   "source": [
    "sub = pd.DataFrame({'TID': df_test['TID'], 'Price': y_pred}) # preparing a submission dataframe with required columns\n",
    "sub.head()"
   ]
  },
  {
   "cell_type": "code",
   "execution_count": 21,
   "metadata": {
    "colab": {},
    "colab_type": "code",
    "id": "oaNwxLyljDgC"
   },
   "outputs": [],
   "source": [
    "sub1 = sub.sort_values(by = 'TID', ascending = 1) # arranging the data in ascending order by TID columns"
   ]
  },
  {
   "cell_type": "code",
   "execution_count": 23,
   "metadata": {
    "colab": {},
    "colab_type": "code",
    "id": "sw9MOw89cWiN"
   },
   "outputs": [],
   "source": [
    "sub1.to_csv('submis.csv', index = False) # converting the above dataframe into a .csv file"
   ]
  },
  {
   "cell_type": "code",
   "execution_count": 0,
   "metadata": {
    "colab": {},
    "colab_type": "code",
    "id": "WshOo5nMjjNw"
   },
   "outputs": [],
   "source": []
  }
 ],
 "metadata": {
  "accelerator": "GPU",
  "colab": {
   "collapsed_sections": [],
   "machine_shape": "hm",
   "name": "Cerebro.ipynb",
   "provenance": [],
   "toc_visible": true
  },
  "kernelspec": {
   "display_name": "Python 3",
   "language": "python",
   "name": "python3"
  },
  "language_info": {
   "codemirror_mode": {
    "name": "ipython",
    "version": 3
   },
   "file_extension": ".py",
   "mimetype": "text/x-python",
   "name": "python",
   "nbconvert_exporter": "python",
   "pygments_lexer": "ipython3",
   "version": "3.7.3"
  }
 },
 "nbformat": 4,
 "nbformat_minor": 1
}
